{
 "cells": [
  {
   "cell_type": "code",
   "execution_count": 67,
   "metadata": {},
   "outputs": [],
   "source": [
    "import pandas as pd\n",
    "import numpy as np"
   ]
  },
  {
   "cell_type": "code",
   "execution_count": 68,
   "metadata": {},
   "outputs": [],
   "source": [
    "train=pd.read_csv(\"train.csv\")"
   ]
  },
  {
   "cell_type": "code",
   "execution_count": 69,
   "metadata": {},
   "outputs": [
    {
     "data": {
      "text/html": [
       "<div>\n",
       "<style scoped>\n",
       "    .dataframe tbody tr th:only-of-type {\n",
       "        vertical-align: middle;\n",
       "    }\n",
       "\n",
       "    .dataframe tbody tr th {\n",
       "        vertical-align: top;\n",
       "    }\n",
       "\n",
       "    .dataframe thead th {\n",
       "        text-align: right;\n",
       "    }\n",
       "</style>\n",
       "<table border=\"1\" class=\"dataframe\">\n",
       "  <thead>\n",
       "    <tr style=\"text-align: right;\">\n",
       "      <th></th>\n",
       "      <th>Elevation(meters)</th>\n",
       "      <th>Aspect(degrees)</th>\n",
       "      <th>Slope(degrees)</th>\n",
       "      <th>Horizontal_Distance_To_Hydrology(meters)</th>\n",
       "      <th>Vertical_Distance_To_Hydrology(meters)</th>\n",
       "      <th>Horizontal_Distance_To_Roadways(meters)</th>\n",
       "      <th>Hillshade_9am</th>\n",
       "      <th>Hillshade_Noon</th>\n",
       "      <th>Hillshade_3pm</th>\n",
       "      <th>Horizontal_Distance_To_Fire_Points(meters)</th>\n",
       "      <th>...</th>\n",
       "      <th>Soil_Type_32</th>\n",
       "      <th>Soil_Type_33</th>\n",
       "      <th>Soil_Type_34</th>\n",
       "      <th>Soil_Type_35</th>\n",
       "      <th>Soil_Type_36</th>\n",
       "      <th>Soil_Type_37</th>\n",
       "      <th>Soil_Type_38</th>\n",
       "      <th>Soil_Type_39</th>\n",
       "      <th>Soil_Type_40</th>\n",
       "      <th>Cover_Type</th>\n",
       "    </tr>\n",
       "  </thead>\n",
       "  <tbody>\n",
       "    <tr>\n",
       "      <th>0</th>\n",
       "      <td>2982</td>\n",
       "      <td>186</td>\n",
       "      <td>14</td>\n",
       "      <td>323</td>\n",
       "      <td>66</td>\n",
       "      <td>5351</td>\n",
       "      <td>222</td>\n",
       "      <td>249</td>\n",
       "      <td>158</td>\n",
       "      <td>1530</td>\n",
       "      <td>...</td>\n",
       "      <td>0</td>\n",
       "      <td>0</td>\n",
       "      <td>0</td>\n",
       "      <td>0</td>\n",
       "      <td>0</td>\n",
       "      <td>0</td>\n",
       "      <td>0</td>\n",
       "      <td>0</td>\n",
       "      <td>0</td>\n",
       "      <td>5</td>\n",
       "    </tr>\n",
       "    <tr>\n",
       "      <th>1</th>\n",
       "      <td>2929</td>\n",
       "      <td>243</td>\n",
       "      <td>15</td>\n",
       "      <td>335</td>\n",
       "      <td>33</td>\n",
       "      <td>5778</td>\n",
       "      <td>189</td>\n",
       "      <td>251</td>\n",
       "      <td>198</td>\n",
       "      <td>6429</td>\n",
       "      <td>...</td>\n",
       "      <td>0</td>\n",
       "      <td>0</td>\n",
       "      <td>0</td>\n",
       "      <td>0</td>\n",
       "      <td>0</td>\n",
       "      <td>0</td>\n",
       "      <td>0</td>\n",
       "      <td>0</td>\n",
       "      <td>0</td>\n",
       "      <td>7</td>\n",
       "    </tr>\n",
       "    <tr>\n",
       "      <th>2</th>\n",
       "      <td>3051</td>\n",
       "      <td>162</td>\n",
       "      <td>12</td>\n",
       "      <td>1224</td>\n",
       "      <td>253</td>\n",
       "      <td>3182</td>\n",
       "      <td>231</td>\n",
       "      <td>243</td>\n",
       "      <td>142</td>\n",
       "      <td>1167</td>\n",
       "      <td>...</td>\n",
       "      <td>0</td>\n",
       "      <td>0</td>\n",
       "      <td>1</td>\n",
       "      <td>0</td>\n",
       "      <td>0</td>\n",
       "      <td>0</td>\n",
       "      <td>0</td>\n",
       "      <td>0</td>\n",
       "      <td>0</td>\n",
       "      <td>5</td>\n",
       "    </tr>\n",
       "    <tr>\n",
       "      <th>3</th>\n",
       "      <td>3090</td>\n",
       "      <td>345</td>\n",
       "      <td>17</td>\n",
       "      <td>362</td>\n",
       "      <td>92</td>\n",
       "      <td>2460</td>\n",
       "      <td>184</td>\n",
       "      <td>211</td>\n",
       "      <td>164</td>\n",
       "      <td>2384</td>\n",
       "      <td>...</td>\n",
       "      <td>0</td>\n",
       "      <td>0</td>\n",
       "      <td>0</td>\n",
       "      <td>0</td>\n",
       "      <td>0</td>\n",
       "      <td>0</td>\n",
       "      <td>0</td>\n",
       "      <td>0</td>\n",
       "      <td>0</td>\n",
       "      <td>7</td>\n",
       "    </tr>\n",
       "    <tr>\n",
       "      <th>4</th>\n",
       "      <td>3023</td>\n",
       "      <td>4</td>\n",
       "      <td>9</td>\n",
       "      <td>234</td>\n",
       "      <td>51</td>\n",
       "      <td>4994</td>\n",
       "      <td>208</td>\n",
       "      <td>222</td>\n",
       "      <td>151</td>\n",
       "      <td>3813</td>\n",
       "      <td>...</td>\n",
       "      <td>0</td>\n",
       "      <td>0</td>\n",
       "      <td>0</td>\n",
       "      <td>0</td>\n",
       "      <td>0</td>\n",
       "      <td>0</td>\n",
       "      <td>0</td>\n",
       "      <td>0</td>\n",
       "      <td>0</td>\n",
       "      <td>7</td>\n",
       "    </tr>\n",
       "  </tbody>\n",
       "</table>\n",
       "<p>5 rows × 55 columns</p>\n",
       "</div>"
      ],
      "text/plain": [
       "   Elevation(meters)  Aspect(degrees)  Slope(degrees)  \\\n",
       "0               2982              186              14   \n",
       "1               2929              243              15   \n",
       "2               3051              162              12   \n",
       "3               3090              345              17   \n",
       "4               3023                4               9   \n",
       "\n",
       "   Horizontal_Distance_To_Hydrology(meters)  \\\n",
       "0                                       323   \n",
       "1                                       335   \n",
       "2                                      1224   \n",
       "3                                       362   \n",
       "4                                       234   \n",
       "\n",
       "   Vertical_Distance_To_Hydrology(meters)  \\\n",
       "0                                      66   \n",
       "1                                      33   \n",
       "2                                     253   \n",
       "3                                      92   \n",
       "4                                      51   \n",
       "\n",
       "   Horizontal_Distance_To_Roadways(meters)  Hillshade_9am  Hillshade_Noon  \\\n",
       "0                                     5351            222             249   \n",
       "1                                     5778            189             251   \n",
       "2                                     3182            231             243   \n",
       "3                                     2460            184             211   \n",
       "4                                     4994            208             222   \n",
       "\n",
       "   Hillshade_3pm  Horizontal_Distance_To_Fire_Points(meters)  ...  \\\n",
       "0            158                                        1530  ...   \n",
       "1            198                                        6429  ...   \n",
       "2            142                                        1167  ...   \n",
       "3            164                                        2384  ...   \n",
       "4            151                                        3813  ...   \n",
       "\n",
       "   Soil_Type_32  Soil_Type_33  Soil_Type_34  Soil_Type_35  Soil_Type_36  \\\n",
       "0             0             0             0             0             0   \n",
       "1             0             0             0             0             0   \n",
       "2             0             0             1             0             0   \n",
       "3             0             0             0             0             0   \n",
       "4             0             0             0             0             0   \n",
       "\n",
       "   Soil_Type_37  Soil_Type_38  Soil_Type_39  Soil_Type_40  Cover_Type  \n",
       "0             0             0             0             0           5  \n",
       "1             0             0             0             0           7  \n",
       "2             0             0             0             0           5  \n",
       "3             0             0             0             0           7  \n",
       "4             0             0             0             0           7  \n",
       "\n",
       "[5 rows x 55 columns]"
      ]
     },
     "execution_count": 69,
     "metadata": {},
     "output_type": "execute_result"
    }
   ],
   "source": [
    "train.head()"
   ]
  },
  {
   "cell_type": "code",
   "execution_count": 70,
   "metadata": {},
   "outputs": [],
   "source": [
    "train.drop(['Soil_Type_15'],axis=1,inplace=True)"
   ]
  },
  {
   "cell_type": "code",
   "execution_count": 71,
   "metadata": {},
   "outputs": [
    {
     "name": "stdout",
     "output_type": "stream",
     "text": [
      "<class 'pandas.core.frame.DataFrame'>\n",
      "RangeIndex: 29050 entries, 0 to 29049\n",
      "Data columns (total 54 columns):\n",
      " #   Column                                      Non-Null Count  Dtype\n",
      "---  ------                                      --------------  -----\n",
      " 0   Elevation(meters)                           29050 non-null  int64\n",
      " 1   Aspect(degrees)                             29050 non-null  int64\n",
      " 2   Slope(degrees)                              29050 non-null  int64\n",
      " 3   Horizontal_Distance_To_Hydrology(meters)    29050 non-null  int64\n",
      " 4   Vertical_Distance_To_Hydrology(meters)      29050 non-null  int64\n",
      " 5   Horizontal_Distance_To_Roadways(meters)     29050 non-null  int64\n",
      " 6   Hillshade_9am                               29050 non-null  int64\n",
      " 7   Hillshade_Noon                              29050 non-null  int64\n",
      " 8   Hillshade_3pm                               29050 non-null  int64\n",
      " 9   Horizontal_Distance_To_Fire_Points(meters)  29050 non-null  int64\n",
      " 10  Wilderness_Area_1                           29050 non-null  int64\n",
      " 11  Wilderness_Area_2                           29050 non-null  int64\n",
      " 12  Wilderness_Area_3                           29050 non-null  int64\n",
      " 13  Wilderness_Area_4                           29050 non-null  int64\n",
      " 14  Soil_Type_1                                 29050 non-null  int64\n",
      " 15  Soil_Type_2                                 29050 non-null  int64\n",
      " 16  Soil_Type_3                                 29050 non-null  int64\n",
      " 17  Soil_Type_4                                 29050 non-null  int64\n",
      " 18  Soil_Type_5                                 29050 non-null  int64\n",
      " 19  Soil_Type_6                                 29050 non-null  int64\n",
      " 20  Soil_Type_7                                 29050 non-null  int64\n",
      " 21  Soil_Type_8                                 29050 non-null  int64\n",
      " 22  Soil_Type_9                                 29050 non-null  int64\n",
      " 23  Soil_Type_10                                29050 non-null  int64\n",
      " 24  Soil_Type_11                                29050 non-null  int64\n",
      " 25  Soil_Type_12                                29050 non-null  int64\n",
      " 26  Soil_Type_13                                29050 non-null  int64\n",
      " 27  Soil_Type_14                                29050 non-null  int64\n",
      " 28  Soil_Type_16                                29050 non-null  int64\n",
      " 29  Soil_Type_17                                29050 non-null  int64\n",
      " 30  Soil_Type_18                                29050 non-null  int64\n",
      " 31  Soil_Type_19                                29050 non-null  int64\n",
      " 32  Soil_Type_20                                29050 non-null  int64\n",
      " 33  Soil_Type_21                                29050 non-null  int64\n",
      " 34  Soil_Type_22                                29050 non-null  int64\n",
      " 35  Soil_Type_23                                29050 non-null  int64\n",
      " 36  Soil_Type_24                                29050 non-null  int64\n",
      " 37  Soil_Type_25                                29050 non-null  int64\n",
      " 38  Soil_Type_26                                29050 non-null  int64\n",
      " 39  Soil_Type_27                                29050 non-null  int64\n",
      " 40  Soil_Type_28                                29050 non-null  int64\n",
      " 41  Soil_Type_29                                29050 non-null  int64\n",
      " 42  Soil_Type_30                                29050 non-null  int64\n",
      " 43  Soil_Type_31                                29050 non-null  int64\n",
      " 44  Soil_Type_32                                29050 non-null  int64\n",
      " 45  Soil_Type_33                                29050 non-null  int64\n",
      " 46  Soil_Type_34                                29050 non-null  int64\n",
      " 47  Soil_Type_35                                29050 non-null  int64\n",
      " 48  Soil_Type_36                                29050 non-null  int64\n",
      " 49  Soil_Type_37                                29050 non-null  int64\n",
      " 50  Soil_Type_38                                29050 non-null  int64\n",
      " 51  Soil_Type_39                                29050 non-null  int64\n",
      " 52  Soil_Type_40                                29050 non-null  int64\n",
      " 53  Cover_Type                                  29050 non-null  int64\n",
      "dtypes: int64(54)\n",
      "memory usage: 12.0 MB\n"
     ]
    }
   ],
   "source": [
    "train.info()"
   ]
  },
  {
   "cell_type": "code",
   "execution_count": 72,
   "metadata": {},
   "outputs": [
    {
     "data": {
      "text/plain": [
       "1576"
      ]
     },
     "execution_count": 72,
     "metadata": {},
     "output_type": "execute_result"
    }
   ],
   "source": [
    "train[\"Elevation(meters)\"].nunique()"
   ]
  },
  {
   "cell_type": "code",
   "execution_count": 73,
   "metadata": {},
   "outputs": [
    {
     "data": {
      "text/plain": [
       "Index(['Elevation(meters)', 'Aspect(degrees)', 'Slope(degrees)',\n",
       "       'Horizontal_Distance_To_Hydrology(meters)',\n",
       "       'Vertical_Distance_To_Hydrology(meters)',\n",
       "       'Horizontal_Distance_To_Roadways(meters)', 'Hillshade_9am',\n",
       "       'Hillshade_Noon', 'Hillshade_3pm',\n",
       "       'Horizontal_Distance_To_Fire_Points(meters)', 'Wilderness_Area_1',\n",
       "       'Wilderness_Area_2', 'Wilderness_Area_3', 'Wilderness_Area_4',\n",
       "       'Soil_Type_1', 'Soil_Type_2', 'Soil_Type_3', 'Soil_Type_4',\n",
       "       'Soil_Type_5', 'Soil_Type_6', 'Soil_Type_7', 'Soil_Type_8',\n",
       "       'Soil_Type_9', 'Soil_Type_10', 'Soil_Type_11', 'Soil_Type_12',\n",
       "       'Soil_Type_13', 'Soil_Type_14', 'Soil_Type_16', 'Soil_Type_17',\n",
       "       'Soil_Type_18', 'Soil_Type_19', 'Soil_Type_20', 'Soil_Type_21',\n",
       "       'Soil_Type_22', 'Soil_Type_23', 'Soil_Type_24', 'Soil_Type_25',\n",
       "       'Soil_Type_26', 'Soil_Type_27', 'Soil_Type_28', 'Soil_Type_29',\n",
       "       'Soil_Type_30', 'Soil_Type_31', 'Soil_Type_32', 'Soil_Type_33',\n",
       "       'Soil_Type_34', 'Soil_Type_35', 'Soil_Type_36', 'Soil_Type_37',\n",
       "       'Soil_Type_38', 'Soil_Type_39', 'Soil_Type_40', 'Cover_Type'],\n",
       "      dtype='object')"
      ]
     },
     "execution_count": 73,
     "metadata": {},
     "output_type": "execute_result"
    }
   ],
   "source": [
    "train.columns"
   ]
  },
  {
   "cell_type": "markdown",
   "metadata": {},
   "source": [
    "# convering dummies to normal "
   ]
  },
  {
   "cell_type": "code",
   "execution_count": 74,
   "metadata": {},
   "outputs": [],
   "source": [
    "dumies=train[['Soil_Type_1', 'Soil_Type_2', 'Soil_Type_3', 'Soil_Type_4',\n",
    "       'Soil_Type_5', 'Soil_Type_6', 'Soil_Type_7', 'Soil_Type_8',\n",
    "       'Soil_Type_9', 'Soil_Type_10', 'Soil_Type_11', 'Soil_Type_12',\n",
    "       'Soil_Type_13', 'Soil_Type_14', 'Soil_Type_16',\n",
    "       'Soil_Type_17', 'Soil_Type_18', 'Soil_Type_19', 'Soil_Type_20',\n",
    "       'Soil_Type_21', 'Soil_Type_22', 'Soil_Type_23', 'Soil_Type_24',\n",
    "       'Soil_Type_25', 'Soil_Type_26', 'Soil_Type_27', 'Soil_Type_28',\n",
    "       'Soil_Type_29', 'Soil_Type_30', 'Soil_Type_31', 'Soil_Type_32',\n",
    "       'Soil_Type_33', 'Soil_Type_34', 'Soil_Type_35', 'Soil_Type_36',\n",
    "       'Soil_Type_37', 'Soil_Type_38', 'Soil_Type_39', 'Soil_Type_40']]"
   ]
  },
  {
   "cell_type": "code",
   "execution_count": 75,
   "metadata": {},
   "outputs": [
    {
     "data": {
      "text/html": [
       "<div>\n",
       "<style scoped>\n",
       "    .dataframe tbody tr th:only-of-type {\n",
       "        vertical-align: middle;\n",
       "    }\n",
       "\n",
       "    .dataframe tbody tr th {\n",
       "        vertical-align: top;\n",
       "    }\n",
       "\n",
       "    .dataframe thead th {\n",
       "        text-align: right;\n",
       "    }\n",
       "</style>\n",
       "<table border=\"1\" class=\"dataframe\">\n",
       "  <thead>\n",
       "    <tr style=\"text-align: right;\">\n",
       "      <th></th>\n",
       "      <th>Soil_Type_1</th>\n",
       "      <th>Soil_Type_2</th>\n",
       "      <th>Soil_Type_3</th>\n",
       "      <th>Soil_Type_4</th>\n",
       "      <th>Soil_Type_5</th>\n",
       "      <th>Soil_Type_6</th>\n",
       "      <th>Soil_Type_7</th>\n",
       "      <th>Soil_Type_8</th>\n",
       "      <th>Soil_Type_9</th>\n",
       "      <th>Soil_Type_10</th>\n",
       "      <th>...</th>\n",
       "      <th>Soil_Type_31</th>\n",
       "      <th>Soil_Type_32</th>\n",
       "      <th>Soil_Type_33</th>\n",
       "      <th>Soil_Type_34</th>\n",
       "      <th>Soil_Type_35</th>\n",
       "      <th>Soil_Type_36</th>\n",
       "      <th>Soil_Type_37</th>\n",
       "      <th>Soil_Type_38</th>\n",
       "      <th>Soil_Type_39</th>\n",
       "      <th>Soil_Type_40</th>\n",
       "    </tr>\n",
       "  </thead>\n",
       "  <tbody>\n",
       "    <tr>\n",
       "      <th>0</th>\n",
       "      <td>0</td>\n",
       "      <td>0</td>\n",
       "      <td>0</td>\n",
       "      <td>0</td>\n",
       "      <td>0</td>\n",
       "      <td>0</td>\n",
       "      <td>0</td>\n",
       "      <td>0</td>\n",
       "      <td>0</td>\n",
       "      <td>0</td>\n",
       "      <td>...</td>\n",
       "      <td>0</td>\n",
       "      <td>0</td>\n",
       "      <td>0</td>\n",
       "      <td>0</td>\n",
       "      <td>0</td>\n",
       "      <td>0</td>\n",
       "      <td>0</td>\n",
       "      <td>0</td>\n",
       "      <td>0</td>\n",
       "      <td>0</td>\n",
       "    </tr>\n",
       "    <tr>\n",
       "      <th>1</th>\n",
       "      <td>0</td>\n",
       "      <td>0</td>\n",
       "      <td>0</td>\n",
       "      <td>0</td>\n",
       "      <td>0</td>\n",
       "      <td>0</td>\n",
       "      <td>0</td>\n",
       "      <td>0</td>\n",
       "      <td>0</td>\n",
       "      <td>0</td>\n",
       "      <td>...</td>\n",
       "      <td>0</td>\n",
       "      <td>0</td>\n",
       "      <td>0</td>\n",
       "      <td>0</td>\n",
       "      <td>0</td>\n",
       "      <td>0</td>\n",
       "      <td>0</td>\n",
       "      <td>0</td>\n",
       "      <td>0</td>\n",
       "      <td>0</td>\n",
       "    </tr>\n",
       "    <tr>\n",
       "      <th>2</th>\n",
       "      <td>0</td>\n",
       "      <td>0</td>\n",
       "      <td>0</td>\n",
       "      <td>0</td>\n",
       "      <td>0</td>\n",
       "      <td>0</td>\n",
       "      <td>0</td>\n",
       "      <td>0</td>\n",
       "      <td>0</td>\n",
       "      <td>0</td>\n",
       "      <td>...</td>\n",
       "      <td>0</td>\n",
       "      <td>0</td>\n",
       "      <td>0</td>\n",
       "      <td>1</td>\n",
       "      <td>0</td>\n",
       "      <td>0</td>\n",
       "      <td>0</td>\n",
       "      <td>0</td>\n",
       "      <td>0</td>\n",
       "      <td>0</td>\n",
       "    </tr>\n",
       "    <tr>\n",
       "      <th>3</th>\n",
       "      <td>0</td>\n",
       "      <td>0</td>\n",
       "      <td>0</td>\n",
       "      <td>0</td>\n",
       "      <td>0</td>\n",
       "      <td>0</td>\n",
       "      <td>0</td>\n",
       "      <td>0</td>\n",
       "      <td>0</td>\n",
       "      <td>0</td>\n",
       "      <td>...</td>\n",
       "      <td>0</td>\n",
       "      <td>0</td>\n",
       "      <td>0</td>\n",
       "      <td>0</td>\n",
       "      <td>0</td>\n",
       "      <td>0</td>\n",
       "      <td>0</td>\n",
       "      <td>0</td>\n",
       "      <td>0</td>\n",
       "      <td>0</td>\n",
       "    </tr>\n",
       "    <tr>\n",
       "      <th>4</th>\n",
       "      <td>0</td>\n",
       "      <td>0</td>\n",
       "      <td>0</td>\n",
       "      <td>0</td>\n",
       "      <td>0</td>\n",
       "      <td>0</td>\n",
       "      <td>0</td>\n",
       "      <td>0</td>\n",
       "      <td>0</td>\n",
       "      <td>0</td>\n",
       "      <td>...</td>\n",
       "      <td>0</td>\n",
       "      <td>0</td>\n",
       "      <td>0</td>\n",
       "      <td>0</td>\n",
       "      <td>0</td>\n",
       "      <td>0</td>\n",
       "      <td>0</td>\n",
       "      <td>0</td>\n",
       "      <td>0</td>\n",
       "      <td>0</td>\n",
       "    </tr>\n",
       "  </tbody>\n",
       "</table>\n",
       "<p>5 rows × 39 columns</p>\n",
       "</div>"
      ],
      "text/plain": [
       "   Soil_Type_1  Soil_Type_2  Soil_Type_3  Soil_Type_4  Soil_Type_5  \\\n",
       "0            0            0            0            0            0   \n",
       "1            0            0            0            0            0   \n",
       "2            0            0            0            0            0   \n",
       "3            0            0            0            0            0   \n",
       "4            0            0            0            0            0   \n",
       "\n",
       "   Soil_Type_6  Soil_Type_7  Soil_Type_8  Soil_Type_9  Soil_Type_10  ...  \\\n",
       "0            0            0            0            0             0  ...   \n",
       "1            0            0            0            0             0  ...   \n",
       "2            0            0            0            0             0  ...   \n",
       "3            0            0            0            0             0  ...   \n",
       "4            0            0            0            0             0  ...   \n",
       "\n",
       "   Soil_Type_31  Soil_Type_32  Soil_Type_33  Soil_Type_34  Soil_Type_35  \\\n",
       "0             0             0             0             0             0   \n",
       "1             0             0             0             0             0   \n",
       "2             0             0             0             1             0   \n",
       "3             0             0             0             0             0   \n",
       "4             0             0             0             0             0   \n",
       "\n",
       "   Soil_Type_36  Soil_Type_37  Soil_Type_38  Soil_Type_39  Soil_Type_40  \n",
       "0             0             0             0             0             0  \n",
       "1             0             0             0             0             0  \n",
       "2             0             0             0             0             0  \n",
       "3             0             0             0             0             0  \n",
       "4             0             0             0             0             0  \n",
       "\n",
       "[5 rows x 39 columns]"
      ]
     },
     "execution_count": 75,
     "metadata": {},
     "output_type": "execute_result"
    }
   ],
   "source": [
    "dumies.head()"
   ]
  },
  {
   "cell_type": "code",
   "execution_count": 76,
   "metadata": {},
   "outputs": [],
   "source": [
    "s2 = dumies.idxmax(axis=1)"
   ]
  },
  {
   "cell_type": "code",
   "execution_count": 77,
   "metadata": {},
   "outputs": [
    {
     "data": {
      "text/plain": [
       "pandas.core.series.Series"
      ]
     },
     "execution_count": 77,
     "metadata": {},
     "output_type": "execute_result"
    }
   ],
   "source": [
    "type(s2)"
   ]
  },
  {
   "cell_type": "code",
   "execution_count": 78,
   "metadata": {},
   "outputs": [
    {
     "data": {
      "text/plain": [
       "0    Soil_Type_30\n",
       "1    Soil_Type_29\n",
       "2    Soil_Type_34\n",
       "3    Soil_Type_24\n",
       "4    Soil_Type_29\n",
       "dtype: object"
      ]
     },
     "execution_count": 78,
     "metadata": {},
     "output_type": "execute_result"
    }
   ],
   "source": [
    "s2.head()"
   ]
  },
  {
   "cell_type": "code",
   "execution_count": 79,
   "metadata": {},
   "outputs": [
    {
     "data": {
      "text/plain": [
       "array(['Soil_Type_30', 'Soil_Type_29', 'Soil_Type_34', 'Soil_Type_24',\n",
       "       'Soil_Type_39', 'Soil_Type_38', 'Soil_Type_6', 'Soil_Type_4',\n",
       "       'Soil_Type_13', 'Soil_Type_32', 'Soil_Type_26', 'Soil_Type_22',\n",
       "       'Soil_Type_23', 'Soil_Type_12', 'Soil_Type_11', 'Soil_Type_33',\n",
       "       'Soil_Type_1', 'Soil_Type_2', 'Soil_Type_40', 'Soil_Type_35',\n",
       "       'Soil_Type_17', 'Soil_Type_5', 'Soil_Type_31', 'Soil_Type_27',\n",
       "       'Soil_Type_10', 'Soil_Type_9', 'Soil_Type_20', 'Soil_Type_16',\n",
       "       'Soil_Type_3', 'Soil_Type_19', 'Soil_Type_7', 'Soil_Type_18',\n",
       "       'Soil_Type_21', 'Soil_Type_28', 'Soil_Type_14', 'Soil_Type_8',\n",
       "       'Soil_Type_37', 'Soil_Type_25', 'Soil_Type_36'], dtype=object)"
      ]
     },
     "execution_count": 79,
     "metadata": {},
     "output_type": "execute_result"
    }
   ],
   "source": [
    "s2.unique()"
   ]
  },
  {
   "cell_type": "code",
   "execution_count": 80,
   "metadata": {},
   "outputs": [
    {
     "data": {
      "text/plain": [
       "39"
      ]
     },
     "execution_count": 80,
     "metadata": {},
     "output_type": "execute_result"
    }
   ],
   "source": [
    "s2.nunique()"
   ]
  },
  {
   "cell_type": "code",
   "execution_count": 81,
   "metadata": {},
   "outputs": [],
   "source": [
    "dumies1=train[['Wilderness_Area_1',\n",
    "       'Wilderness_Area_2', 'Wilderness_Area_3', 'Wilderness_Area_4']]"
   ]
  },
  {
   "cell_type": "code",
   "execution_count": 82,
   "metadata": {},
   "outputs": [
    {
     "data": {
      "text/html": [
       "<div>\n",
       "<style scoped>\n",
       "    .dataframe tbody tr th:only-of-type {\n",
       "        vertical-align: middle;\n",
       "    }\n",
       "\n",
       "    .dataframe tbody tr th {\n",
       "        vertical-align: top;\n",
       "    }\n",
       "\n",
       "    .dataframe thead th {\n",
       "        text-align: right;\n",
       "    }\n",
       "</style>\n",
       "<table border=\"1\" class=\"dataframe\">\n",
       "  <thead>\n",
       "    <tr style=\"text-align: right;\">\n",
       "      <th></th>\n",
       "      <th>Wilderness_Area_1</th>\n",
       "      <th>Wilderness_Area_2</th>\n",
       "      <th>Wilderness_Area_3</th>\n",
       "      <th>Wilderness_Area_4</th>\n",
       "    </tr>\n",
       "  </thead>\n",
       "  <tbody>\n",
       "    <tr>\n",
       "      <th>0</th>\n",
       "      <td>1</td>\n",
       "      <td>0</td>\n",
       "      <td>0</td>\n",
       "      <td>0</td>\n",
       "    </tr>\n",
       "    <tr>\n",
       "      <th>1</th>\n",
       "      <td>1</td>\n",
       "      <td>0</td>\n",
       "      <td>0</td>\n",
       "      <td>0</td>\n",
       "    </tr>\n",
       "    <tr>\n",
       "      <th>2</th>\n",
       "      <td>0</td>\n",
       "      <td>0</td>\n",
       "      <td>1</td>\n",
       "      <td>0</td>\n",
       "    </tr>\n",
       "    <tr>\n",
       "      <th>3</th>\n",
       "      <td>0</td>\n",
       "      <td>0</td>\n",
       "      <td>1</td>\n",
       "      <td>0</td>\n",
       "    </tr>\n",
       "    <tr>\n",
       "      <th>4</th>\n",
       "      <td>1</td>\n",
       "      <td>0</td>\n",
       "      <td>0</td>\n",
       "      <td>0</td>\n",
       "    </tr>\n",
       "  </tbody>\n",
       "</table>\n",
       "</div>"
      ],
      "text/plain": [
       "   Wilderness_Area_1  Wilderness_Area_2  Wilderness_Area_3  Wilderness_Area_4\n",
       "0                  1                  0                  0                  0\n",
       "1                  1                  0                  0                  0\n",
       "2                  0                  0                  1                  0\n",
       "3                  0                  0                  1                  0\n",
       "4                  1                  0                  0                  0"
      ]
     },
     "execution_count": 82,
     "metadata": {},
     "output_type": "execute_result"
    }
   ],
   "source": [
    "dumies1.head()"
   ]
  },
  {
   "cell_type": "code",
   "execution_count": 83,
   "metadata": {},
   "outputs": [],
   "source": [
    "s3 = dumies1.idxmax(axis=1)"
   ]
  },
  {
   "cell_type": "code",
   "execution_count": 84,
   "metadata": {},
   "outputs": [
    {
     "data": {
      "text/plain": [
       "0    Wilderness_Area_1\n",
       "1    Wilderness_Area_1\n",
       "2    Wilderness_Area_3\n",
       "3    Wilderness_Area_3\n",
       "4    Wilderness_Area_1\n",
       "dtype: object"
      ]
     },
     "execution_count": 84,
     "metadata": {},
     "output_type": "execute_result"
    }
   ],
   "source": [
    "s3.head()"
   ]
  },
  {
   "cell_type": "code",
   "execution_count": 85,
   "metadata": {},
   "outputs": [],
   "source": [
    "#df1 = pd.concat([s2, s3], axis=1)to concat two series data\n"
   ]
  },
  {
   "cell_type": "code",
   "execution_count": 86,
   "metadata": {},
   "outputs": [],
   "source": [
    "#to combie two series into a dataframe\n",
    "df2=pd.DataFrame({'soil': s2, 'wild': s3})"
   ]
  },
  {
   "cell_type": "code",
   "execution_count": 87,
   "metadata": {},
   "outputs": [
    {
     "data": {
      "text/plain": [
       "Soil_Type_29    5815\n",
       "Soil_Type_23    2820\n",
       "Soil_Type_32    2665\n",
       "Soil_Type_33    2294\n",
       "Soil_Type_22    1662\n",
       "Soil_Type_10    1600\n",
       "Soil_Type_30    1506\n",
       "Soil_Type_12    1498\n",
       "Soil_Type_31    1222\n",
       "Soil_Type_24    1067\n",
       "Soil_Type_13     895\n",
       "Soil_Type_38     800\n",
       "Soil_Type_39     692\n",
       "Soil_Type_4      624\n",
       "Soil_Type_11     606\n",
       "Soil_Type_20     494\n",
       "Soil_Type_40     423\n",
       "Soil_Type_6      371\n",
       "Soil_Type_2      347\n",
       "Soil_Type_3      230\n",
       "Soil_Type_19     199\n",
       "Soil_Type_17     181\n",
       "Soil_Type_1      140\n",
       "Soil_Type_16     138\n",
       "Soil_Type_26     125\n",
       "Soil_Type_18      96\n",
       "Soil_Type_35      89\n",
       "Soil_Type_34      79\n",
       "Soil_Type_5       79\n",
       "Soil_Type_9       58\n",
       "Soil_Type_28      53\n",
       "Soil_Type_27      53\n",
       "Soil_Type_21      37\n",
       "Soil_Type_14      34\n",
       "Soil_Type_25      17\n",
       "Soil_Type_8       15\n",
       "Soil_Type_37      11\n",
       "Soil_Type_7        9\n",
       "Soil_Type_36       6\n",
       "Name: soil, dtype: int64"
      ]
     },
     "execution_count": 87,
     "metadata": {},
     "output_type": "execute_result"
    }
   ],
   "source": [
    "df2.soil.value_counts()"
   ]
  },
  {
   "cell_type": "code",
   "execution_count": 88,
   "metadata": {},
   "outputs": [
    {
     "data": {
      "text/html": [
       "<div>\n",
       "<style scoped>\n",
       "    .dataframe tbody tr th:only-of-type {\n",
       "        vertical-align: middle;\n",
       "    }\n",
       "\n",
       "    .dataframe tbody tr th {\n",
       "        vertical-align: top;\n",
       "    }\n",
       "\n",
       "    .dataframe thead th {\n",
       "        text-align: right;\n",
       "    }\n",
       "</style>\n",
       "<table border=\"1\" class=\"dataframe\">\n",
       "  <thead>\n",
       "    <tr style=\"text-align: right;\">\n",
       "      <th></th>\n",
       "      <th>soil</th>\n",
       "      <th>wild</th>\n",
       "    </tr>\n",
       "  </thead>\n",
       "  <tbody>\n",
       "    <tr>\n",
       "      <th>0</th>\n",
       "      <td>Soil_Type_30</td>\n",
       "      <td>Wilderness_Area_1</td>\n",
       "    </tr>\n",
       "    <tr>\n",
       "      <th>1</th>\n",
       "      <td>Soil_Type_29</td>\n",
       "      <td>Wilderness_Area_1</td>\n",
       "    </tr>\n",
       "    <tr>\n",
       "      <th>2</th>\n",
       "      <td>Soil_Type_34</td>\n",
       "      <td>Wilderness_Area_3</td>\n",
       "    </tr>\n",
       "    <tr>\n",
       "      <th>3</th>\n",
       "      <td>Soil_Type_24</td>\n",
       "      <td>Wilderness_Area_3</td>\n",
       "    </tr>\n",
       "    <tr>\n",
       "      <th>4</th>\n",
       "      <td>Soil_Type_29</td>\n",
       "      <td>Wilderness_Area_1</td>\n",
       "    </tr>\n",
       "  </tbody>\n",
       "</table>\n",
       "</div>"
      ],
      "text/plain": [
       "           soil               wild\n",
       "0  Soil_Type_30  Wilderness_Area_1\n",
       "1  Soil_Type_29  Wilderness_Area_1\n",
       "2  Soil_Type_34  Wilderness_Area_3\n",
       "3  Soil_Type_24  Wilderness_Area_3\n",
       "4  Soil_Type_29  Wilderness_Area_1"
      ]
     },
     "execution_count": 88,
     "metadata": {},
     "output_type": "execute_result"
    }
   ],
   "source": [
    "df2.head()"
   ]
  },
  {
   "cell_type": "code",
   "execution_count": 89,
   "metadata": {},
   "outputs": [
    {
     "name": "stdout",
     "output_type": "stream",
     "text": [
      "{'Soil_Type_1': 0, 'Soil_Type_10': 1, 'Soil_Type_11': 2, 'Soil_Type_12': 3, 'Soil_Type_13': 4, 'Soil_Type_14': 5, 'Soil_Type_16': 6, 'Soil_Type_17': 7, 'Soil_Type_18': 8, 'Soil_Type_19': 9, 'Soil_Type_2': 10, 'Soil_Type_20': 11, 'Soil_Type_21': 12, 'Soil_Type_22': 13, 'Soil_Type_23': 14, 'Soil_Type_24': 15, 'Soil_Type_25': 16, 'Soil_Type_26': 17, 'Soil_Type_27': 18, 'Soil_Type_28': 19, 'Soil_Type_29': 20, 'Soil_Type_3': 21, 'Soil_Type_30': 22, 'Soil_Type_31': 23, 'Soil_Type_32': 24, 'Soil_Type_33': 25, 'Soil_Type_34': 26, 'Soil_Type_35': 27, 'Soil_Type_36': 28, 'Soil_Type_37': 29, 'Soil_Type_38': 30, 'Soil_Type_39': 31, 'Soil_Type_4': 32, 'Soil_Type_40': 33, 'Soil_Type_5': 34, 'Soil_Type_6': 35, 'Soil_Type_7': 36, 'Soil_Type_8': 37, 'Soil_Type_9': 38}\n"
     ]
    }
   ],
   "source": [
    "from sklearn import preprocessing\n",
    "label_encoder = preprocessing.LabelEncoder()\n",
    "df2['soil']=label_encoder.fit_transform(df2['soil'])\n",
    "le_name_mapping = dict(zip(label_encoder.classes_, label_encoder.transform(label_encoder.classes_)))\n",
    "print(le_name_mapping)"
   ]
  },
  {
   "cell_type": "code",
   "execution_count": 90,
   "metadata": {},
   "outputs": [
    {
     "name": "stdout",
     "output_type": "stream",
     "text": [
      "{'Wilderness_Area_1': 0, 'Wilderness_Area_2': 1, 'Wilderness_Area_3': 2, 'Wilderness_Area_4': 3}\n"
     ]
    }
   ],
   "source": [
    "from sklearn import preprocessing\n",
    "label_encoder = preprocessing.LabelEncoder()\n",
    "df2['wild']=label_encoder.fit_transform(df2['wild'])\n",
    "le_name_mapping1 = dict(zip(label_encoder.classes_, label_encoder.transform(label_encoder.classes_)))\n",
    "print(le_name_mapping1)"
   ]
  },
  {
   "cell_type": "code",
   "execution_count": 91,
   "metadata": {},
   "outputs": [
    {
     "data": {
      "text/html": [
       "<div>\n",
       "<style scoped>\n",
       "    .dataframe tbody tr th:only-of-type {\n",
       "        vertical-align: middle;\n",
       "    }\n",
       "\n",
       "    .dataframe tbody tr th {\n",
       "        vertical-align: top;\n",
       "    }\n",
       "\n",
       "    .dataframe thead th {\n",
       "        text-align: right;\n",
       "    }\n",
       "</style>\n",
       "<table border=\"1\" class=\"dataframe\">\n",
       "  <thead>\n",
       "    <tr style=\"text-align: right;\">\n",
       "      <th></th>\n",
       "      <th>soil</th>\n",
       "      <th>wild</th>\n",
       "    </tr>\n",
       "  </thead>\n",
       "  <tbody>\n",
       "    <tr>\n",
       "      <th>0</th>\n",
       "      <td>22</td>\n",
       "      <td>0</td>\n",
       "    </tr>\n",
       "    <tr>\n",
       "      <th>1</th>\n",
       "      <td>20</td>\n",
       "      <td>0</td>\n",
       "    </tr>\n",
       "    <tr>\n",
       "      <th>2</th>\n",
       "      <td>26</td>\n",
       "      <td>2</td>\n",
       "    </tr>\n",
       "    <tr>\n",
       "      <th>3</th>\n",
       "      <td>15</td>\n",
       "      <td>2</td>\n",
       "    </tr>\n",
       "    <tr>\n",
       "      <th>4</th>\n",
       "      <td>20</td>\n",
       "      <td>0</td>\n",
       "    </tr>\n",
       "  </tbody>\n",
       "</table>\n",
       "</div>"
      ],
      "text/plain": [
       "   soil  wild\n",
       "0    22     0\n",
       "1    20     0\n",
       "2    26     2\n",
       "3    15     2\n",
       "4    20     0"
      ]
     },
     "execution_count": 91,
     "metadata": {},
     "output_type": "execute_result"
    }
   ],
   "source": [
    "df2.head()"
   ]
  },
  {
   "cell_type": "code",
   "execution_count": 92,
   "metadata": {},
   "outputs": [],
   "source": [
    "#df2 = pd.DataFrame({col: df2[col].astype('category').cat.codes for col in df2}, index=df2.index)"
   ]
  },
  {
   "cell_type": "code",
   "execution_count": 93,
   "metadata": {},
   "outputs": [
    {
     "data": {
      "text/plain": [
       "array([22, 20, 26, 15, 31, 30, 35, 32,  4, 24, 17, 13, 14,  3,  2, 25,  0,\n",
       "       10, 33, 27,  7, 34, 23, 18,  1, 38, 11,  6, 21,  9, 36,  8, 12, 19,\n",
       "        5, 37, 29, 16, 28])"
      ]
     },
     "execution_count": 93,
     "metadata": {},
     "output_type": "execute_result"
    }
   ],
   "source": [
    "df2.soil.unique()"
   ]
  },
  {
   "cell_type": "code",
   "execution_count": 94,
   "metadata": {},
   "outputs": [
    {
     "data": {
      "text/plain": [
       "39"
      ]
     },
     "execution_count": 94,
     "metadata": {},
     "output_type": "execute_result"
    }
   ],
   "source": [
    "df2.soil.nunique()"
   ]
  },
  {
   "cell_type": "code",
   "execution_count": 95,
   "metadata": {},
   "outputs": [
    {
     "data": {
      "text/html": [
       "<div>\n",
       "<style scoped>\n",
       "    .dataframe tbody tr th:only-of-type {\n",
       "        vertical-align: middle;\n",
       "    }\n",
       "\n",
       "    .dataframe tbody tr th {\n",
       "        vertical-align: top;\n",
       "    }\n",
       "\n",
       "    .dataframe thead th {\n",
       "        text-align: right;\n",
       "    }\n",
       "</style>\n",
       "<table border=\"1\" class=\"dataframe\">\n",
       "  <thead>\n",
       "    <tr style=\"text-align: right;\">\n",
       "      <th></th>\n",
       "      <th>soil</th>\n",
       "      <th>wild</th>\n",
       "    </tr>\n",
       "  </thead>\n",
       "  <tbody>\n",
       "    <tr>\n",
       "      <th>0</th>\n",
       "      <td>22</td>\n",
       "      <td>0</td>\n",
       "    </tr>\n",
       "    <tr>\n",
       "      <th>1</th>\n",
       "      <td>20</td>\n",
       "      <td>0</td>\n",
       "    </tr>\n",
       "    <tr>\n",
       "      <th>2</th>\n",
       "      <td>26</td>\n",
       "      <td>2</td>\n",
       "    </tr>\n",
       "    <tr>\n",
       "      <th>3</th>\n",
       "      <td>15</td>\n",
       "      <td>2</td>\n",
       "    </tr>\n",
       "    <tr>\n",
       "      <th>4</th>\n",
       "      <td>20</td>\n",
       "      <td>0</td>\n",
       "    </tr>\n",
       "  </tbody>\n",
       "</table>\n",
       "</div>"
      ],
      "text/plain": [
       "   soil  wild\n",
       "0    22     0\n",
       "1    20     0\n",
       "2    26     2\n",
       "3    15     2\n",
       "4    20     0"
      ]
     },
     "execution_count": 95,
     "metadata": {},
     "output_type": "execute_result"
    }
   ],
   "source": [
    "df2.head()"
   ]
  },
  {
   "cell_type": "code",
   "execution_count": 96,
   "metadata": {},
   "outputs": [
    {
     "data": {
      "text/plain": [
       "(29050, 54)"
      ]
     },
     "execution_count": 96,
     "metadata": {},
     "output_type": "execute_result"
    }
   ],
   "source": [
    "train.shape"
   ]
  },
  {
   "cell_type": "markdown",
   "metadata": {},
   "source": [
    "# Dropped tho dummie columns and atached lable encoded columns"
   ]
  },
  {
   "cell_type": "code",
   "execution_count": 97,
   "metadata": {},
   "outputs": [],
   "source": [
    "train.drop(['Soil_Type_1', 'Soil_Type_2', 'Soil_Type_3', 'Soil_Type_4',\n",
    "       'Soil_Type_5', 'Soil_Type_6', 'Soil_Type_7', 'Soil_Type_8',\n",
    "       'Soil_Type_9', 'Soil_Type_10', 'Soil_Type_11', 'Soil_Type_12',\n",
    "       'Soil_Type_13', 'Soil_Type_14', 'Soil_Type_16',\n",
    "       'Soil_Type_17', 'Soil_Type_18', 'Soil_Type_19', 'Soil_Type_20',\n",
    "       'Soil_Type_21', 'Soil_Type_22', 'Soil_Type_23', 'Soil_Type_24',\n",
    "       'Soil_Type_25', 'Soil_Type_26', 'Soil_Type_27', 'Soil_Type_28',\n",
    "       'Soil_Type_29', 'Soil_Type_30', 'Soil_Type_31', 'Soil_Type_32',\n",
    "       'Soil_Type_33', 'Soil_Type_34', 'Soil_Type_35', 'Soil_Type_36',\n",
    "       'Soil_Type_37', 'Soil_Type_38', 'Soil_Type_39', 'Soil_Type_40','Wilderness_Area_1',\n",
    "       'Wilderness_Area_2', 'Wilderness_Area_3', 'Wilderness_Area_4'],axis=1,inplace=True)"
   ]
  },
  {
   "cell_type": "code",
   "execution_count": 98,
   "metadata": {},
   "outputs": [
    {
     "data": {
      "text/plain": [
       "(29050, 11)"
      ]
     },
     "execution_count": 98,
     "metadata": {},
     "output_type": "execute_result"
    }
   ],
   "source": [
    "train.shape"
   ]
  },
  {
   "cell_type": "code",
   "execution_count": 99,
   "metadata": {},
   "outputs": [],
   "source": [
    "train1=pd.concat([train,df2],axis=1)"
   ]
  },
  {
   "cell_type": "code",
   "execution_count": 100,
   "metadata": {},
   "outputs": [
    {
     "data": {
      "text/plain": [
       "(29050, 13)"
      ]
     },
     "execution_count": 100,
     "metadata": {},
     "output_type": "execute_result"
    }
   ],
   "source": [
    "train1.shape"
   ]
  },
  {
   "cell_type": "code",
   "execution_count": 101,
   "metadata": {},
   "outputs": [
    {
     "data": {
      "text/html": [
       "<div>\n",
       "<style scoped>\n",
       "    .dataframe tbody tr th:only-of-type {\n",
       "        vertical-align: middle;\n",
       "    }\n",
       "\n",
       "    .dataframe tbody tr th {\n",
       "        vertical-align: top;\n",
       "    }\n",
       "\n",
       "    .dataframe thead th {\n",
       "        text-align: right;\n",
       "    }\n",
       "</style>\n",
       "<table border=\"1\" class=\"dataframe\">\n",
       "  <thead>\n",
       "    <tr style=\"text-align: right;\">\n",
       "      <th></th>\n",
       "      <th>Elevation(meters)</th>\n",
       "      <th>Aspect(degrees)</th>\n",
       "      <th>Slope(degrees)</th>\n",
       "      <th>Horizontal_Distance_To_Hydrology(meters)</th>\n",
       "      <th>Vertical_Distance_To_Hydrology(meters)</th>\n",
       "      <th>Horizontal_Distance_To_Roadways(meters)</th>\n",
       "      <th>Hillshade_9am</th>\n",
       "      <th>Hillshade_Noon</th>\n",
       "      <th>Hillshade_3pm</th>\n",
       "      <th>Horizontal_Distance_To_Fire_Points(meters)</th>\n",
       "      <th>Cover_Type</th>\n",
       "      <th>soil</th>\n",
       "      <th>wild</th>\n",
       "    </tr>\n",
       "  </thead>\n",
       "  <tbody>\n",
       "    <tr>\n",
       "      <th>count</th>\n",
       "      <td>29050.000000</td>\n",
       "      <td>29050.000000</td>\n",
       "      <td>29050.000000</td>\n",
       "      <td>29050.000000</td>\n",
       "      <td>29050.000000</td>\n",
       "      <td>29050.000000</td>\n",
       "      <td>29050.000000</td>\n",
       "      <td>29050.000000</td>\n",
       "      <td>29050.000000</td>\n",
       "      <td>29050.000000</td>\n",
       "      <td>29050.000000</td>\n",
       "      <td>29050.000000</td>\n",
       "      <td>29050.000000</td>\n",
       "    </tr>\n",
       "    <tr>\n",
       "      <th>mean</th>\n",
       "      <td>2959.328330</td>\n",
       "      <td>155.720241</td>\n",
       "      <td>14.028537</td>\n",
       "      <td>269.220792</td>\n",
       "      <td>46.332737</td>\n",
       "      <td>2346.340241</td>\n",
       "      <td>212.042134</td>\n",
       "      <td>223.446850</td>\n",
       "      <td>142.854630</td>\n",
       "      <td>1971.574871</td>\n",
       "      <td>5.536110</td>\n",
       "      <td>17.668227</td>\n",
       "      <td>1.111394</td>\n",
       "    </tr>\n",
       "    <tr>\n",
       "      <th>std</th>\n",
       "      <td>277.578227</td>\n",
       "      <td>112.109417</td>\n",
       "      <td>7.458200</td>\n",
       "      <td>212.406921</td>\n",
       "      <td>58.938186</td>\n",
       "      <td>1558.148732</td>\n",
       "      <td>26.678889</td>\n",
       "      <td>19.610671</td>\n",
       "      <td>38.000582</td>\n",
       "      <td>1321.145310</td>\n",
       "      <td>1.438261</td>\n",
       "      <td>8.899650</td>\n",
       "      <td>1.061851</td>\n",
       "    </tr>\n",
       "    <tr>\n",
       "      <th>min</th>\n",
       "      <td>1879.000000</td>\n",
       "      <td>0.000000</td>\n",
       "      <td>0.000000</td>\n",
       "      <td>0.000000</td>\n",
       "      <td>-166.000000</td>\n",
       "      <td>0.000000</td>\n",
       "      <td>58.000000</td>\n",
       "      <td>63.000000</td>\n",
       "      <td>0.000000</td>\n",
       "      <td>0.000000</td>\n",
       "      <td>1.000000</td>\n",
       "      <td>0.000000</td>\n",
       "      <td>0.000000</td>\n",
       "    </tr>\n",
       "    <tr>\n",
       "      <th>25%</th>\n",
       "      <td>2809.000000</td>\n",
       "      <td>58.000000</td>\n",
       "      <td>9.000000</td>\n",
       "      <td>108.000000</td>\n",
       "      <td>7.000000</td>\n",
       "      <td>1103.000000</td>\n",
       "      <td>198.000000</td>\n",
       "      <td>213.000000</td>\n",
       "      <td>120.000000</td>\n",
       "      <td>1020.000000</td>\n",
       "      <td>5.000000</td>\n",
       "      <td>13.000000</td>\n",
       "      <td>0.000000</td>\n",
       "    </tr>\n",
       "    <tr>\n",
       "      <th>50%</th>\n",
       "      <td>2995.000000</td>\n",
       "      <td>128.000000</td>\n",
       "      <td>13.000000</td>\n",
       "      <td>218.000000</td>\n",
       "      <td>29.000000</td>\n",
       "      <td>1984.000000</td>\n",
       "      <td>218.000000</td>\n",
       "      <td>226.000000</td>\n",
       "      <td>143.000000</td>\n",
       "      <td>1704.000000</td>\n",
       "      <td>5.000000</td>\n",
       "      <td>20.000000</td>\n",
       "      <td>1.000000</td>\n",
       "    </tr>\n",
       "    <tr>\n",
       "      <th>75%</th>\n",
       "      <td>3161.000000</td>\n",
       "      <td>262.000000</td>\n",
       "      <td>18.000000</td>\n",
       "      <td>390.000000</td>\n",
       "      <td>69.000000</td>\n",
       "      <td>3329.750000</td>\n",
       "      <td>231.000000</td>\n",
       "      <td>237.000000</td>\n",
       "      <td>168.000000</td>\n",
       "      <td>2536.000000</td>\n",
       "      <td>7.000000</td>\n",
       "      <td>24.000000</td>\n",
       "      <td>2.000000</td>\n",
       "    </tr>\n",
       "    <tr>\n",
       "      <th>max</th>\n",
       "      <td>3844.000000</td>\n",
       "      <td>360.000000</td>\n",
       "      <td>61.000000</td>\n",
       "      <td>1320.000000</td>\n",
       "      <td>589.000000</td>\n",
       "      <td>7087.000000</td>\n",
       "      <td>254.000000</td>\n",
       "      <td>254.000000</td>\n",
       "      <td>251.000000</td>\n",
       "      <td>7142.000000</td>\n",
       "      <td>7.000000</td>\n",
       "      <td>38.000000</td>\n",
       "      <td>3.000000</td>\n",
       "    </tr>\n",
       "  </tbody>\n",
       "</table>\n",
       "</div>"
      ],
      "text/plain": [
       "       Elevation(meters)  Aspect(degrees)  Slope(degrees)  \\\n",
       "count       29050.000000     29050.000000    29050.000000   \n",
       "mean         2959.328330       155.720241       14.028537   \n",
       "std           277.578227       112.109417        7.458200   \n",
       "min          1879.000000         0.000000        0.000000   \n",
       "25%          2809.000000        58.000000        9.000000   \n",
       "50%          2995.000000       128.000000       13.000000   \n",
       "75%          3161.000000       262.000000       18.000000   \n",
       "max          3844.000000       360.000000       61.000000   \n",
       "\n",
       "       Horizontal_Distance_To_Hydrology(meters)  \\\n",
       "count                              29050.000000   \n",
       "mean                                 269.220792   \n",
       "std                                  212.406921   \n",
       "min                                    0.000000   \n",
       "25%                                  108.000000   \n",
       "50%                                  218.000000   \n",
       "75%                                  390.000000   \n",
       "max                                 1320.000000   \n",
       "\n",
       "       Vertical_Distance_To_Hydrology(meters)  \\\n",
       "count                            29050.000000   \n",
       "mean                                46.332737   \n",
       "std                                 58.938186   \n",
       "min                               -166.000000   \n",
       "25%                                  7.000000   \n",
       "50%                                 29.000000   \n",
       "75%                                 69.000000   \n",
       "max                                589.000000   \n",
       "\n",
       "       Horizontal_Distance_To_Roadways(meters)  Hillshade_9am  Hillshade_Noon  \\\n",
       "count                             29050.000000   29050.000000    29050.000000   \n",
       "mean                               2346.340241     212.042134      223.446850   \n",
       "std                                1558.148732      26.678889       19.610671   \n",
       "min                                   0.000000      58.000000       63.000000   \n",
       "25%                                1103.000000     198.000000      213.000000   \n",
       "50%                                1984.000000     218.000000      226.000000   \n",
       "75%                                3329.750000     231.000000      237.000000   \n",
       "max                                7087.000000     254.000000      254.000000   \n",
       "\n",
       "       Hillshade_3pm  Horizontal_Distance_To_Fire_Points(meters)  \\\n",
       "count   29050.000000                                29050.000000   \n",
       "mean      142.854630                                 1971.574871   \n",
       "std        38.000582                                 1321.145310   \n",
       "min         0.000000                                    0.000000   \n",
       "25%       120.000000                                 1020.000000   \n",
       "50%       143.000000                                 1704.000000   \n",
       "75%       168.000000                                 2536.000000   \n",
       "max       251.000000                                 7142.000000   \n",
       "\n",
       "         Cover_Type          soil          wild  \n",
       "count  29050.000000  29050.000000  29050.000000  \n",
       "mean       5.536110     17.668227      1.111394  \n",
       "std        1.438261      8.899650      1.061851  \n",
       "min        1.000000      0.000000      0.000000  \n",
       "25%        5.000000     13.000000      0.000000  \n",
       "50%        5.000000     20.000000      1.000000  \n",
       "75%        7.000000     24.000000      2.000000  \n",
       "max        7.000000     38.000000      3.000000  "
      ]
     },
     "execution_count": 101,
     "metadata": {},
     "output_type": "execute_result"
    }
   ],
   "source": [
    "train1.describe()"
   ]
  },
  {
   "cell_type": "code",
   "execution_count": 102,
   "metadata": {},
   "outputs": [
    {
     "data": {
      "text/plain": [
       "4599    -166\n",
       "12324   -159\n",
       "23183   -158\n",
       "22239   -152\n",
       "25251   -151\n",
       "        ... \n",
       "22129    547\n",
       "17846    549\n",
       "28745    550\n",
       "27352    586\n",
       "28842    589\n",
       "Name: Vertical_Distance_To_Hydrology(meters), Length: 29050, dtype: int64"
      ]
     },
     "execution_count": 102,
     "metadata": {},
     "output_type": "execute_result"
    }
   ],
   "source": [
    "train1[\"Vertical_Distance_To_Hydrology(meters)\"].sort_values()"
   ]
  },
  {
   "cell_type": "code",
   "execution_count": 103,
   "metadata": {},
   "outputs": [
    {
     "data": {
      "text/plain": [
       "Index(['Elevation(meters)', 'Aspect(degrees)', 'Slope(degrees)',\n",
       "       'Horizontal_Distance_To_Hydrology(meters)',\n",
       "       'Vertical_Distance_To_Hydrology(meters)',\n",
       "       'Horizontal_Distance_To_Roadways(meters)', 'Hillshade_9am',\n",
       "       'Hillshade_Noon', 'Hillshade_3pm',\n",
       "       'Horizontal_Distance_To_Fire_Points(meters)', 'Cover_Type', 'soil',\n",
       "       'wild'],\n",
       "      dtype='object')"
      ]
     },
     "execution_count": 103,
     "metadata": {},
     "output_type": "execute_result"
    }
   ],
   "source": [
    "train1.columns"
   ]
  },
  {
   "cell_type": "markdown",
   "metadata": {},
   "source": [
    "# box Plot for all columns"
   ]
  },
  {
   "cell_type": "code",
   "execution_count": 104,
   "metadata": {},
   "outputs": [
    {
     "data": {
      "image/png": "[encoded data removed]",
      "text/plain": [
       "<Figure size 1080x864 with 1 Axes>"
      ]
     },
     "metadata": {
      "needs_background": "light"
     },
     "output_type": "display_data"
    }
   ],
   "source": [
    "boxplot = train1.boxplot(column=['Elevation(meters)', 'Aspect(degrees)', 'Slope(degrees)',\n",
    "       'Horizontal_Distance_To_Hydrology(meters)',\n",
    "       'Vertical_Distance_To_Hydrology(meters)',\n",
    "       'Horizontal_Distance_To_Roadways(meters)', 'Hillshade_9am',\n",
    "       'Hillshade_Noon', 'Hillshade_3pm',\n",
    "       'Horizontal_Distance_To_Fire_Points(meters)', 'Cover_Type', 'soil',\n",
    "       'wild'],figsize=(15,12),rot=90)"
   ]
  },
  {
   "cell_type": "code",
   "execution_count": 105,
   "metadata": {},
   "outputs": [],
   "source": [
    "y=train1['Cover_Type']\n",
    "x=train1.drop(['Cover_Type'],axis=1)"
   ]
  },
  {
   "cell_type": "code",
   "execution_count": 106,
   "metadata": {},
   "outputs": [],
   "source": [
    "from sklearn.model_selection import train_test_split\n",
    "x_train, x_val, y_train, y_val = train_test_split(x, y, test_size=0.20, random_state=20)"
   ]
  },
  {
   "cell_type": "code",
   "execution_count": 107,
   "metadata": {},
   "outputs": [
    {
     "name": "stdout",
     "output_type": "stream",
     "text": [
      "(23240, 12)\n",
      "(5810, 12)\n",
      "(23240,)\n",
      "(5810,)\n"
     ]
    }
   ],
   "source": [
    "for i in x_train, x_val, y_train, y_val:\n",
    "    print(i.shape)"
   ]
  },
  {
   "cell_type": "code",
   "execution_count": 108,
   "metadata": {},
   "outputs": [],
   "source": [
    "\n",
    "from sklearn.neighbors import KNeighborsClassifier\n",
    "from sklearn.model_selection import cross_val_score\n",
    "from sklearn.preprocessing import normalize,scale\n",
    "from sklearn.tree import DecisionTreeClassifier\n",
    "from sklearn.svm import SVC"
   ]
  },
  {
   "cell_type": "code",
   "execution_count": 109,
   "metadata": {},
   "outputs": [],
   "source": [
    "from sklearn.metrics import accuracy_score"
   ]
  },
  {
   "cell_type": "markdown",
   "metadata": {},
   "source": [
    "# XGB classifier"
   ]
  },
  {
   "cell_type": "code",
   "execution_count": 58,
   "metadata": {},
   "outputs": [
    {
     "name": "stdout",
     "output_type": "stream",
     "text": [
      "0.9601979345955249\n",
      "0.8325301204819278\n",
      "0.4460494370044145\n",
      "0.23792270037487714\n"
     ]
    }
   ],
   "source": [
    "from xgboost import  XGBClassifier\n",
    "from sklearn.ensemble import RandomForestClassifier\n",
    "X_classifier = RandomForestClassifier(max_depth=16,max_features=3,min_samples_split=3)\n",
    "#XGBClassifier(max_depth=12,min_child=9,learning_rate=0.1,colsample_bytree=0.9000987450143435,gamma=0.23012395647734896,reg_lambda=0.022784709899450806,subsample=0.9583438400119773)\n",
    "X_classifier.fit(x_train,y_train)\n",
    "\n",
    "Y_train_xgb = X_classifier.predict(x_train)\n",
    "Y_test_xgb =X_classifier.predict(x_val)\n",
    "\n",
    "from sklearn.metrics import accuracy_score\n",
    "print(accuracy_score(y_train,Y_train_xgb))\n",
    "print(accuracy_score(y_val,Y_test_xgb))\n",
    "\n",
    "from sklearn.metrics import log_loss\n",
    "\n",
    "clf_probs = X_classifier.predict_proba(x_val)\n",
    "clf_probs_train = X_classifier.predict_proba(x_train)\n",
    "\n",
    "score1 = log_loss(y_val,clf_probs)\n",
    "\n",
    "\n",
    "score2 = log_loss(y_train,clf_probs_train)\n",
    "\n",
    "print(score1)\n",
    "\n",
    "print(score2)"
   ]
  },
  {
   "cell_type": "code",
   "execution_count": 111,
   "metadata": {},
   "outputs": [
    {
     "name": "stdout",
     "output_type": "stream",
     "text": [
      "0.9601979345955249\n",
      "0.8325301204819278\n",
      "0.44656602364742454\n",
      "0.23978406633039764\n"
     ]
    }
   ],
   "source": [
    "from sklearn.ensemble import RandomForestClassifier\n",
    "clf = RandomForestClassifier()\n",
    "clf = RandomForestClassifier(max_depth=16,max_features=3,min_samples_split=3)\n",
    "\n",
    "clf.fit(x_train,y_train)\n",
    "Y_train_rf = X_classifier.predict(x_train)\n",
    "Y_test_rf =X_classifier.predict(x_val)\n",
    "from sklearn.metrics import accuracy_score\n",
    "print(accuracy_score(y_train,Y_train_rf))\n",
    "print(accuracy_score(y_val,Y_test_rf))\n",
    "\n",
    "clf_probs = clf.predict_proba(x_val)\n",
    "clf_probs_train = clf.predict_proba(x_train)\n",
    "\n",
    "score1 = log_loss(y_val,clf_probs)\n",
    "score2 = log_loss(y_train,clf_probs_train)\n",
    "\n",
    "print(score1)\n",
    "print(score2)\n"
   ]
  },
  {
   "cell_type": "code",
   "execution_count": 112,
   "metadata": {},
   "outputs": [],
   "source": [
    "import pickle\n",
    "pickle.dump(clf, open('model.pkl','wb'))"
   ]
  },
  {
   "cell_type": "code",
   "execution_count": 127,
   "metadata": {},
   "outputs": [],
   "source": [
    "result=clf.predict([[122,1856,14,3623,66,5351,222,249,158,1530,25,3]])"
   ]
  },
  {
   "cell_type": "code",
   "execution_count": 128,
   "metadata": {},
   "outputs": [
    {
     "name": "stdout",
     "output_type": "stream",
     "text": [
      "[6]\n"
     ]
    }
   ],
   "source": [
    "print(result)"
   ]
  },
  {
   "cell_type": "code",
   "execution_count": 129,
   "metadata": {},
   "outputs": [],
   "source": [
    "le_name_mapping2 = {'Type 1': 0, 'Type 2': 1, 'Type 3': 2, 'Type 4': 3,\n",
    "                           'Type 5': 4, 'Type 6': 5, 'Type 7': 6, }"
   ]
  },
  {
   "cell_type": "code",
   "execution_count": 130,
   "metadata": {},
   "outputs": [],
   "source": [
    "def get_key(val):\n",
    "    for key,value in le_name_mapping2.items():\n",
    "        if val==value:\n",
    "            return key"
   ]
  },
  {
   "cell_type": "code",
   "execution_count": 131,
   "metadata": {},
   "outputs": [
    {
     "name": "stdout",
     "output_type": "stream",
     "text": [
      "Your location is: Type 7\n"
     ]
    }
   ],
   "source": [
    "loc=get_key(result)\n",
    "print(\"Your location is:\", loc)"
   ]
  },
  {
   "cell_type": "code",
   "execution_count": null,
   "metadata": {},
   "outputs": [],
   "source": []
  }
 ],
 "metadata": {
  "kernelspec": {
   "display_name": "Python 3",
   "language": "python",
   "name": "python3"
  },
  "language_info": {
   "codemirror_mode": {
    "name": "ipython",
    "version": 3
   },
   "file_extension": ".py",
   "mimetype": "text/x-python",
   "name": "python",
   "nbconvert_exporter": "python",
   "pygments_lexer": "ipython3",
   "version": "3.7.6"
  }
 },
 "nbformat": 4,
 "nbformat_minor": 4
}
